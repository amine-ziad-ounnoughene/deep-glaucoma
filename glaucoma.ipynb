{
  "nbformat": 4,
  "nbformat_minor": 0,
  "metadata": {
    "kernelspec": {
      "language": "python",
      "display_name": "Python 3",
      "name": "python3"
    },
    "language_info": {
      "name": "python",
      "version": "3.7.10",
      "mimetype": "text/x-python",
      "codemirror_mode": {
        "name": "ipython",
        "version": 3
      },
      "pygments_lexer": "ipython3",
      "nbconvert_exporter": "python",
      "file_extension": ".py"
    },
    "colab": {
      "name": "ophtalmo-cancer.ipynb",
      "provenance": [],
      "collapsed_sections": []
    }
  },
  "cells": [
    {
      "cell_type": "code",
      "metadata": {
        "_uuid": "8f2839f25d086af736a60e9eeb907d3b93b6e0e5",
        "_cell_guid": "b1076dfc-b9ad-4769-8c92-a6c4dae69d19",
        "execution": {
          "iopub.status.busy": "2021-07-16T19:07:49.415174Z",
          "iopub.execute_input": "2021-07-16T19:07:49.415863Z",
          "iopub.status.idle": "2021-07-16T19:07:49.691351Z",
          "shell.execute_reply.started": "2021-07-16T19:07:49.41576Z",
          "shell.execute_reply": "2021-07-16T19:07:49.69035Z"
        },
        "trusted": true,
        "id": "SLSU6cqn3X4A"
      },
      "source": [
        "import numpy as np\n",
        "import pandas as pd\n",
        "import cv2\n",
        "from matplotlib.pyplot import imshow\n",
        "from tensorflow import keras\n",
        "from PIL import Image\n",
        "import os\n",
        "import matplotlib.image as mpimg"
      ],
      "execution_count": null,
      "outputs": []
    },
    {
      "cell_type": "code",
      "metadata": {
        "id": "ZxPzN8Ig-uNj",
        "colab": {
          "base_uri": "https://localhost:8080/"
        },
        "outputId": "81d0b3d2-d633-4045-c80c-46a919acccfd"
      },
      "source": [
        "from google.colab import drive\n",
        "drive.mount('/content/drive')"
      ],
      "execution_count": null,
      "outputs": [
        {
          "output_type": "stream",
          "text": [
            "Drive already mounted at /content/drive; to attempt to forcibly remount, call drive.mount(\"/content/drive\", force_remount=True).\n"
          ],
          "name": "stdout"
        }
      ]
    },
    {
      "cell_type": "code",
      "metadata": {
        "id": "vDl2-czvAtcE",
        "colab": {
          "base_uri": "https://localhost:8080/"
        },
        "outputId": "ad51abe9-7623-49b8-a5a7-f959aeae7b41"
      },
      "source": [
        "data = pd.read_csv('/content/drive/MyDrive/glaucoma.csv') \n",
        "data[\"path\"] = \"/content/drive/MyDrive/datamed/\" + data.Filename\n",
        "data[\"target\"] = data[\"Glaucoma\"]\n",
        "data.target.value_counts()"
      ],
      "execution_count": null,
      "outputs": [
        {
          "output_type": "execute_result",
          "data": {
            "text/plain": [
              "0    482\n",
              "1    168\n",
              "Name: target, dtype: int64"
            ]
          },
          "metadata": {
            "tags": []
          },
          "execution_count": 32
        }
      ]
    },
    {
      "cell_type": "code",
      "metadata": {
        "colab": {
          "base_uri": "https://localhost:8080/"
        },
        "id": "ix-5QT9BmMS9",
        "outputId": "7069df17-2071-43e7-f6bb-dbb629ed4896"
      },
      "source": [
        "train = data[:520][:]\n",
        "val = data[520:580]\n",
        "test = data[520:][:]\n",
        "print(test.target.value_counts())\n",
        "print(train.target.value_counts())\n",
        "print(val.target.value_counts())\n"
      ],
      "execution_count": null,
      "outputs": [
        {
          "output_type": "stream",
          "text": [
            "0    71\n",
            "1    59\n",
            "Name: target, dtype: int64\n",
            "0    411\n",
            "1    109\n",
            "Name: target, dtype: int64\n",
            "0    44\n",
            "1    16\n",
            "Name: target, dtype: int64\n"
          ],
          "name": "stdout"
        }
      ]
    },
    {
      "cell_type": "code",
      "metadata": {
        "execution": {
          "iopub.status.busy": "2021-07-15T00:21:04.024583Z",
          "iopub.execute_input": "2021-07-15T00:21:04.02505Z",
          "iopub.status.idle": "2021-07-15T00:21:04.040494Z",
          "shell.execute_reply.started": "2021-07-15T00:21:04.025007Z",
          "shell.execute_reply": "2021-07-15T00:21:04.039296Z"
        },
        "trusted": true,
        "id": "9kdR1yo33X5A",
        "colab": {
          "base_uri": "https://localhost:8080/"
        },
        "outputId": "e948ce2b-97ee-4a50-a91e-b9403effb321"
      },
      "source": [
        "from tensorflow.keras.preprocessing.image import ImageDataGenerator\n",
        "test_datagen = ImageDataGenerator(rescale=1./255,rotation_range=90,horizontal_flip=True)\n",
        "test_generator = test_datagen.flow_from_dataframe(\n",
        "    test,\n",
        "    x_col='path',\n",
        "    y_col='target',\n",
        "    target_size=(224, 224),\n",
        "    batch_size=8,\n",
        "    shuffle=True,\n",
        "    class_mode='raw')"
      ],
      "execution_count": null,
      "outputs": [
        {
          "output_type": "stream",
          "text": [
            "Found 130 validated image filenames.\n"
          ],
          "name": "stdout"
        }
      ]
    },
    {
      "cell_type": "code",
      "metadata": {
        "colab": {
          "base_uri": "https://localhost:8080/"
        },
        "id": "Zh13f1OZnrmY",
        "outputId": "eebbcb79-9dc3-422c-970f-1e1bd7c54d5e"
      },
      "source": [
        "from tensorflow.keras.preprocessing.image import ImageDataGenerator\n",
        "train_datagen = ImageDataGenerator(rescale=1./255,rotation_range=90,horizontal_flip=True)\n",
        "train_generator = train_datagen.flow_from_dataframe(\n",
        "    train,\n",
        "    x_col='path',\n",
        "    y_col='target',\n",
        "    target_size=(224, 224),\n",
        "    batch_size=8,\n",
        "    shuffle=True,\n",
        "    class_mode='raw')"
      ],
      "execution_count": null,
      "outputs": [
        {
          "output_type": "stream",
          "text": [
            "Found 520 validated image filenames.\n"
          ],
          "name": "stdout"
        }
      ]
    },
    {
      "cell_type": "code",
      "metadata": {
        "colab": {
          "base_uri": "https://localhost:8080/"
        },
        "id": "3G-vWamvpJcy",
        "outputId": "f148a1d2-52c9-455d-8d2f-1d5259bf7612"
      },
      "source": [
        "val_datagen = ImageDataGenerator(rescale=1./255,rotation_range=90,horizontal_flip=True)\n",
        "val_generator = val_datagen.flow_from_dataframe(\n",
        "    val,\n",
        "    x_col='path',\n",
        "    y_col='target',\n",
        "    target_size=(224, 224),\n",
        "    batch_size=8,\n",
        "    shuffle=True,\n",
        "    class_mode='raw')"
      ],
      "execution_count": null,
      "outputs": [
        {
          "output_type": "stream",
          "text": [
            "Found 60 validated image filenames.\n"
          ],
          "name": "stdout"
        }
      ]
    },
    {
      "cell_type": "code",
      "metadata": {
        "id": "r2p8jgmEMtEJ",
        "colab": {
          "base_uri": "https://localhost:8080/"
        },
        "outputId": "975f6ff5-3fb6-4ac3-8529-02674066caea"
      },
      "source": [
        "import tensorflow as tf\n",
        "import tensorflow.keras.layers as layers\n",
        "model = tf.keras.models.Sequential()\n",
        "model.add(layers.Conv2D(filters=32, kernel_size=(3, 3), strides=(1, 1), activation='relu',\n",
        "                        input_shape=(224, 224, 3)))\n",
        "model.add(layers.MaxPooling2D((2, 2),strides=2))\n",
        "model.add(layers.Dropout(0.3))\n",
        "model.add(layers.BatchNormalization())\n",
        "\n",
        "model.add(layers.Conv2D(filters=64, kernel_size=(3, 3), strides=(1, 1), activation='relu'))\n",
        "model.add(layers.MaxPooling2D(pool_size=(2, 2),strides=2))\n",
        "model.add(layers.Dropout(0.3))\n",
        "model.add(layers.BatchNormalization())\n",
        "model.add(layers.Conv2D(filters=128, kernel_size=(3, 3), strides=(1, 1), activation='relu'))\n",
        "model.add(layers.MaxPooling2D(pool_size=(2, 2),strides=2))\n",
        "model.add(layers.Dropout(0.3))\n",
        "model.add(layers.BatchNormalization())\n",
        "\n",
        "\n",
        "model.add(layers.Flatten())\n",
        "model.add(layers.Dense(units=1, activation='sigmoid'))\n",
        "model.summary()"
      ],
      "execution_count": null,
      "outputs": [
        {
          "output_type": "stream",
          "text": [
            "Model: \"sequential_5\"\n",
            "_________________________________________________________________\n",
            "Layer (type)                 Output Shape              Param #   \n",
            "=================================================================\n",
            "conv2d_15 (Conv2D)           (None, 222, 222, 32)      896       \n",
            "_________________________________________________________________\n",
            "max_pooling2d_15 (MaxPooling (None, 111, 111, 32)      0         \n",
            "_________________________________________________________________\n",
            "dropout (Dropout)            (None, 111, 111, 32)      0         \n",
            "_________________________________________________________________\n",
            "batch_normalization (BatchNo (None, 111, 111, 32)      128       \n",
            "_________________________________________________________________\n",
            "conv2d_16 (Conv2D)           (None, 109, 109, 64)      18496     \n",
            "_________________________________________________________________\n",
            "max_pooling2d_16 (MaxPooling (None, 54, 54, 64)        0         \n",
            "_________________________________________________________________\n",
            "dropout_1 (Dropout)          (None, 54, 54, 64)        0         \n",
            "_________________________________________________________________\n",
            "batch_normalization_1 (Batch (None, 54, 54, 64)        256       \n",
            "_________________________________________________________________\n",
            "conv2d_17 (Conv2D)           (None, 52, 52, 128)       73856     \n",
            "_________________________________________________________________\n",
            "max_pooling2d_17 (MaxPooling (None, 26, 26, 128)       0         \n",
            "_________________________________________________________________\n",
            "dropout_2 (Dropout)          (None, 26, 26, 128)       0         \n",
            "_________________________________________________________________\n",
            "batch_normalization_2 (Batch (None, 26, 26, 128)       512       \n",
            "_________________________________________________________________\n",
            "flatten_5 (Flatten)          (None, 86528)             0         \n",
            "_________________________________________________________________\n",
            "dense_5 (Dense)              (None, 1)                 86529     \n",
            "=================================================================\n",
            "Total params: 180,673\n",
            "Trainable params: 180,225\n",
            "Non-trainable params: 448\n",
            "_________________________________________________________________\n"
          ],
          "name": "stdout"
        }
      ]
    },
    {
      "cell_type": "code",
      "metadata": {
        "colab": {
          "base_uri": "https://localhost:8080/"
        },
        "id": "Y8vMXV_qybTj",
        "outputId": "0db84696-a494-4936-8356-20cde293e0a1"
      },
      "source": [
        "a = 5\n",
        "model.compile(optimizer='adam',\n",
        "              loss='binary_crossentropy',\n",
        "              metrics=['accuracy'])\n",
        "history = model.fit(train_generator,\n",
        "                    batch_size=1,\n",
        "                    epochs=a,steps_per_epoch=5,validation_data=val_generator)"
      ],
      "execution_count": null,
      "outputs": [
        {
          "output_type": "stream",
          "text": [
            "Epoch 1/5\n",
            "5/5 [==============================] - 9s 2s/step - loss: 1.2272 - accuracy: 0.7250 - val_loss: 0.6222 - val_accuracy: 0.7333\n",
            "Epoch 2/5\n",
            "5/5 [==============================] - 7s 2s/step - loss: 1.8617 - accuracy: 0.5500 - val_loss: 0.5820 - val_accuracy: 0.7333\n",
            "Epoch 3/5\n",
            "5/5 [==============================] - 7s 2s/step - loss: 1.3922 - accuracy: 0.7500 - val_loss: 0.6118 - val_accuracy: 0.7333\n",
            "Epoch 4/5\n",
            "5/5 [==============================] - 7s 2s/step - loss: 1.2684 - accuracy: 0.6750 - val_loss: 0.6355 - val_accuracy: 0.7333\n",
            "Epoch 5/5\n",
            "5/5 [==============================] - 7s 2s/step - loss: 0.8617 - accuracy: 0.7750 - val_loss: 0.6721 - val_accuracy: 0.7333\n"
          ],
          "name": "stdout"
        }
      ]
    },
    {
      "cell_type": "code",
      "metadata": {
        "id": "Qdqd-64Q3X5G",
        "colab": {
          "base_uri": "https://localhost:8080/",
          "height": 308
        },
        "outputId": "4652d80c-a536-47a1-8782-68612e33444d"
      },
      "source": [
        "import matplotlib.pyplot as plt\n",
        "f, (ax1, ax2) = plt.subplots(1, 2, figsize=(12, 4))\n",
        "t = f.suptitle('Basic CNN Performance', fontsize=12)\n",
        "f.subplots_adjust(top=0.85, wspace=0.3)\n",
        "\n",
        "epoch_list = list(range(1,a+1))\n",
        "ax1.plot(epoch_list, history.history['accuracy'], label='Train Accuracy')\n",
        "ax1.plot(epoch_list, history.history['val_accuracy'], label='Validation Accuracy')\n",
        "ax1.set_xticks(np.arange(0, a+1, 5))\n",
        "ax1.set_ylabel('Accuracy Value')\n",
        "ax1.set_xlabel('Epoch')\n",
        "ax1.set_title('Accuracy')\n",
        "l1 = ax1.legend(loc=\"best\")\n",
        "\n",
        "ax2.plot(epoch_list, history.history['loss'], label='Train Loss')\n",
        "ax2.plot(epoch_list, history.history['val_loss'], label='Validation Loss')\n",
        "ax2.set_xticks(np.arange(0, a+1, 5))\n",
        "ax2.set_ylabel('Loss Value')\n",
        "ax2.set_xlabel('Epoch')\n",
        "ax2.set_title('Loss')\n",
        "l2 = ax2.legend(loc=\"best\")"
      ],
      "execution_count": null,
      "outputs": [
        {
          "output_type": "display_data",
          "data": {
            "image/png": "[encoded data removed]",
            "text/plain": [
              "<Figure size 864x288 with 2 Axes>"
            ]
          },
          "metadata": {
            "tags": [],
            "needs_background": "light"
          }
        }
      ]
    },
    {
      "cell_type": "code",
      "metadata": {
        "id": "T44wY6xY3X5J",
        "colab": {
          "base_uri": "https://localhost:8080/"
        },
        "outputId": "f70d0bcb-182a-43ad-bd5a-5ba78e15bdee"
      },
      "source": [
        "results = model.evaluate(test_generator, batch_size=128)\n",
        "print(\"test loss, test acc:\", results)"
      ],
      "execution_count": null,
      "outputs": [
        {
          "output_type": "stream",
          "text": [
            "17/17 [==============================] - 15s 921ms/step - loss: 0.6868 - accuracy: 0.5462\n",
            "test loss, test acc: [0.6868141293525696, 0.5461538434028625]\n"
          ],
          "name": "stdout"
        }
      ]
    },
    {
      "cell_type": "code",
      "metadata": {
        "id": "QBwOqONY8E50"
      },
      "source": [
        "model.save(\"model\")"
      ],
      "execution_count": null,
      "outputs": []
    }
  ]
}